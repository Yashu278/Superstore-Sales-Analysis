{
 "cells": [
  {
   "cell_type": "markdown",
   "id": "d32d8379",
   "metadata": {},
   "source": [
    "# 🧹 Superstore Sales Dataset — Data Cleaning\n",
    "\n",
    "## 📌 Objective\n",
    "\n",
    "The goal of this notebook is to prepare the **Superstore Sales dataset** for exploratory data analysis (EDA) and visualization.  \n",
    "We'll clean the data using Python and `pandas`, including:\n",
    "\n",
    "- Removing missing values\n",
    "- Fixing data types\n",
    "- Handling duplicates\n",
    "- Addressing basic outliers\n",
    "- Adding useful derived columns\n",
    "\n",
    "---\n",
    "\n",
    "## 📁 Step 1: Import Libraries & Load Dataset\n",
    "We start by importing essential libraries and loading the dataset.\n"
   ]
  },
  {
   "cell_type": "code",
   "execution_count": 43,
   "id": "35ca369e",
   "metadata": {},
   "outputs": [
    {
     "data": {
      "text/html": [
       "<div>\n",
       "<style scoped>\n",
       "    .dataframe tbody tr th:only-of-type {\n",
       "        vertical-align: middle;\n",
       "    }\n",
       "\n",
       "    .dataframe tbody tr th {\n",
       "        vertical-align: top;\n",
       "    }\n",
       "\n",
       "    .dataframe thead th {\n",
       "        text-align: right;\n",
       "    }\n",
       "</style>\n",
       "<table border=\"1\" class=\"dataframe\">\n",
       "  <thead>\n",
       "    <tr style=\"text-align: right;\">\n",
       "      <th></th>\n",
       "      <th>Row ID</th>\n",
       "      <th>Order ID</th>\n",
       "      <th>Order Date</th>\n",
       "      <th>Ship Date</th>\n",
       "      <th>Ship Mode</th>\n",
       "      <th>Customer ID</th>\n",
       "      <th>Customer Name</th>\n",
       "      <th>Segment</th>\n",
       "      <th>Country</th>\n",
       "      <th>City</th>\n",
       "      <th>...</th>\n",
       "      <th>Postal Code</th>\n",
       "      <th>Region</th>\n",
       "      <th>Product ID</th>\n",
       "      <th>Category</th>\n",
       "      <th>Sub-Category</th>\n",
       "      <th>Product Name</th>\n",
       "      <th>Sales</th>\n",
       "      <th>Quantity</th>\n",
       "      <th>Discount</th>\n",
       "      <th>Profit</th>\n",
       "    </tr>\n",
       "  </thead>\n",
       "  <tbody>\n",
       "    <tr>\n",
       "      <th>0</th>\n",
       "      <td>1</td>\n",
       "      <td>CA-2016-152156</td>\n",
       "      <td>11/8/2016</td>\n",
       "      <td>11/11/2016</td>\n",
       "      <td>Second Class</td>\n",
       "      <td>CG-12520</td>\n",
       "      <td>Claire Gute</td>\n",
       "      <td>Consumer</td>\n",
       "      <td>United States</td>\n",
       "      <td>Henderson</td>\n",
       "      <td>...</td>\n",
       "      <td>42420</td>\n",
       "      <td>South</td>\n",
       "      <td>FUR-BO-10001798</td>\n",
       "      <td>Furniture</td>\n",
       "      <td>Bookcases</td>\n",
       "      <td>Bush Somerset Collection Bookcase</td>\n",
       "      <td>261.9600</td>\n",
       "      <td>2</td>\n",
       "      <td>0.00</td>\n",
       "      <td>41.9136</td>\n",
       "    </tr>\n",
       "    <tr>\n",
       "      <th>1</th>\n",
       "      <td>2</td>\n",
       "      <td>CA-2016-152156</td>\n",
       "      <td>11/8/2016</td>\n",
       "      <td>11/11/2016</td>\n",
       "      <td>Second Class</td>\n",
       "      <td>CG-12520</td>\n",
       "      <td>Claire Gute</td>\n",
       "      <td>Consumer</td>\n",
       "      <td>United States</td>\n",
       "      <td>Henderson</td>\n",
       "      <td>...</td>\n",
       "      <td>42420</td>\n",
       "      <td>South</td>\n",
       "      <td>FUR-CH-10000454</td>\n",
       "      <td>Furniture</td>\n",
       "      <td>Chairs</td>\n",
       "      <td>Hon Deluxe Fabric Upholstered Stacking Chairs,...</td>\n",
       "      <td>731.9400</td>\n",
       "      <td>3</td>\n",
       "      <td>0.00</td>\n",
       "      <td>219.5820</td>\n",
       "    </tr>\n",
       "    <tr>\n",
       "      <th>2</th>\n",
       "      <td>3</td>\n",
       "      <td>CA-2016-138688</td>\n",
       "      <td>6/12/2016</td>\n",
       "      <td>6/16/2016</td>\n",
       "      <td>Second Class</td>\n",
       "      <td>DV-13045</td>\n",
       "      <td>Darrin Van Huff</td>\n",
       "      <td>Corporate</td>\n",
       "      <td>United States</td>\n",
       "      <td>Los Angeles</td>\n",
       "      <td>...</td>\n",
       "      <td>90036</td>\n",
       "      <td>West</td>\n",
       "      <td>OFF-LA-10000240</td>\n",
       "      <td>Office Supplies</td>\n",
       "      <td>Labels</td>\n",
       "      <td>Self-Adhesive Address Labels for Typewriters b...</td>\n",
       "      <td>14.6200</td>\n",
       "      <td>2</td>\n",
       "      <td>0.00</td>\n",
       "      <td>6.8714</td>\n",
       "    </tr>\n",
       "    <tr>\n",
       "      <th>3</th>\n",
       "      <td>4</td>\n",
       "      <td>US-2015-108966</td>\n",
       "      <td>10/11/2015</td>\n",
       "      <td>10/18/2015</td>\n",
       "      <td>Standard Class</td>\n",
       "      <td>SO-20335</td>\n",
       "      <td>Sean O'Donnell</td>\n",
       "      <td>Consumer</td>\n",
       "      <td>United States</td>\n",
       "      <td>Fort Lauderdale</td>\n",
       "      <td>...</td>\n",
       "      <td>33311</td>\n",
       "      <td>South</td>\n",
       "      <td>FUR-TA-10000577</td>\n",
       "      <td>Furniture</td>\n",
       "      <td>Tables</td>\n",
       "      <td>Bretford CR4500 Series Slim Rectangular Table</td>\n",
       "      <td>957.5775</td>\n",
       "      <td>5</td>\n",
       "      <td>0.45</td>\n",
       "      <td>-383.0310</td>\n",
       "    </tr>\n",
       "    <tr>\n",
       "      <th>4</th>\n",
       "      <td>5</td>\n",
       "      <td>US-2015-108966</td>\n",
       "      <td>10/11/2015</td>\n",
       "      <td>10/18/2015</td>\n",
       "      <td>Standard Class</td>\n",
       "      <td>SO-20335</td>\n",
       "      <td>Sean O'Donnell</td>\n",
       "      <td>Consumer</td>\n",
       "      <td>United States</td>\n",
       "      <td>Fort Lauderdale</td>\n",
       "      <td>...</td>\n",
       "      <td>33311</td>\n",
       "      <td>South</td>\n",
       "      <td>OFF-ST-10000760</td>\n",
       "      <td>Office Supplies</td>\n",
       "      <td>Storage</td>\n",
       "      <td>Eldon Fold 'N Roll Cart System</td>\n",
       "      <td>22.3680</td>\n",
       "      <td>2</td>\n",
       "      <td>0.20</td>\n",
       "      <td>2.5164</td>\n",
       "    </tr>\n",
       "  </tbody>\n",
       "</table>\n",
       "<p>5 rows × 21 columns</p>\n",
       "</div>"
      ],
      "text/plain": [
       "   Row ID        Order ID  Order Date   Ship Date       Ship Mode Customer ID  \\\n",
       "0       1  CA-2016-152156   11/8/2016  11/11/2016    Second Class    CG-12520   \n",
       "1       2  CA-2016-152156   11/8/2016  11/11/2016    Second Class    CG-12520   \n",
       "2       3  CA-2016-138688   6/12/2016   6/16/2016    Second Class    DV-13045   \n",
       "3       4  US-2015-108966  10/11/2015  10/18/2015  Standard Class    SO-20335   \n",
       "4       5  US-2015-108966  10/11/2015  10/18/2015  Standard Class    SO-20335   \n",
       "\n",
       "     Customer Name    Segment        Country             City  ...  \\\n",
       "0      Claire Gute   Consumer  United States        Henderson  ...   \n",
       "1      Claire Gute   Consumer  United States        Henderson  ...   \n",
       "2  Darrin Van Huff  Corporate  United States      Los Angeles  ...   \n",
       "3   Sean O'Donnell   Consumer  United States  Fort Lauderdale  ...   \n",
       "4   Sean O'Donnell   Consumer  United States  Fort Lauderdale  ...   \n",
       "\n",
       "  Postal Code  Region       Product ID         Category Sub-Category  \\\n",
       "0       42420   South  FUR-BO-10001798        Furniture    Bookcases   \n",
       "1       42420   South  FUR-CH-10000454        Furniture       Chairs   \n",
       "2       90036    West  OFF-LA-10000240  Office Supplies       Labels   \n",
       "3       33311   South  FUR-TA-10000577        Furniture       Tables   \n",
       "4       33311   South  OFF-ST-10000760  Office Supplies      Storage   \n",
       "\n",
       "                                        Product Name     Sales  Quantity  \\\n",
       "0                  Bush Somerset Collection Bookcase  261.9600         2   \n",
       "1  Hon Deluxe Fabric Upholstered Stacking Chairs,...  731.9400         3   \n",
       "2  Self-Adhesive Address Labels for Typewriters b...   14.6200         2   \n",
       "3      Bretford CR4500 Series Slim Rectangular Table  957.5775         5   \n",
       "4                     Eldon Fold 'N Roll Cart System   22.3680         2   \n",
       "\n",
       "   Discount    Profit  \n",
       "0      0.00   41.9136  \n",
       "1      0.00  219.5820  \n",
       "2      0.00    6.8714  \n",
       "3      0.45 -383.0310  \n",
       "4      0.20    2.5164  \n",
       "\n",
       "[5 rows x 21 columns]"
      ]
     },
     "execution_count": 43,
     "metadata": {},
     "output_type": "execute_result"
    }
   ],
   "source": [
    "import pandas as pd\n",
    "import numpy as np\n",
    "\n",
    "# Load the dataset using the correct encoding\n",
    "df = pd.read_csv(\"/mnt/shared/Data_Analytics_Projects/Superstore_Sales_Data/Superstore.csv\", encoding='ISO-8859-1')\n",
    "\n",
    "# Display the first 5 rows\n",
    "df.head()\n"
   ]
  },
  {
   "cell_type": "markdown",
   "id": "65f88a1a",
   "metadata": {},
   "source": [
    "---\n",
    "## 🔍 Step 2: Basic Dataset Overview\n",
    "\n",
    "Let’s look at:\n",
    "\n",
    "- Number of rows and columns\n",
    "- Column names and data types\n",
    "- Summary statistics for numeric columns\n"
   ]
  },
  {
   "cell_type": "code",
   "execution_count": null,
   "id": "dc3247ea",
   "metadata": {},
   "outputs": [],
   "source": [
    "# Dimensions of the dataset\n",
    "print(\"Shape of the dataset:\", df.shape)\n",
    "\n",
    "# Data types and non-null counts\n",
    "df.info()\n",
    "\n",
    "# Statistical summary\n",
    "df.describe(include='all')\n"
   ]
  },
  {
   "cell_type": "markdown",
   "id": "a11b65ee",
   "metadata": {},
   "source": [
    "---\n",
    "## 🧱 Step 3: Checking for Missing Values\n",
    "\n",
    "We now check which columns have missing values, and how many.\n",
    "This helps us decide whether to drop or fill them.\n"
   ]
  },
  {
   "cell_type": "code",
   "execution_count": null,
   "id": "e1930c1c",
   "metadata": {},
   "outputs": [],
   "source": [
    "# Total missing values in each column\n",
    "df.isnull().sum()\n"
   ]
  },
  {
   "cell_type": "code",
   "execution_count": null,
   "id": "d2ac8003",
   "metadata": {},
   "outputs": [],
   "source": [
    "# Drop rows with missing values (only if few and not critical)\n",
    "df.dropna(inplace=True)\n"
   ]
  },
  {
   "cell_type": "markdown",
   "id": "3d069416",
   "metadata": {},
   "source": [
    "---\n",
    "## 🔄 Step 4: Fixing Data Types\n",
    "\n",
    "Let’s convert object/string columns that should be **datetime** (like Order Date and Ship Date).\n",
    "We’ll also extract **year** and **month** for time-based analysis later.\n"
   ]
  },
  {
   "cell_type": "code",
   "execution_count": null,
   "id": "0cc4d88b",
   "metadata": {},
   "outputs": [],
   "source": [
    "# Convert to datetime\n",
    "df['Order Date'] = pd.to_datetime(df['Order Date'], errors='coerce')\n",
    "df['Ship Date'] = pd.to_datetime(df['Ship Date'], errors='coerce')\n",
    "\n",
    "# Extract year and month\n",
    "df['Order Year'] = df['Order Date'].dt.year\n",
    "df['Order Month'] = df['Order Date'].dt.month\n"
   ]
  },
  {
   "cell_type": "markdown",
   "id": "83c8efdf",
   "metadata": {},
   "source": [
    "---\n",
    "## 🧩 Step 5: Handling Duplicates\n",
    "\n",
    "Let’s check for and remove duplicate records, if any.\n"
   ]
  },
  {
   "cell_type": "code",
   "execution_count": null,
   "id": "6bfd7a15",
   "metadata": {},
   "outputs": [],
   "source": [
    "# Number of duplicate rows\n",
    "df.duplicated().sum()\n"
   ]
  },
  {
   "cell_type": "code",
   "execution_count": null,
   "id": "3d994a24",
   "metadata": {},
   "outputs": [],
   "source": [
    "# Remove duplicates\n",
    "df.drop_duplicates(inplace=True)\n"
   ]
  },
  {
   "cell_type": "markdown",
   "id": "d8d66159",
   "metadata": {},
   "source": [
    "---\n",
    "## ⚠️ Step 6: Basic Outlier Detection (Optional)\n",
    "\n",
    "We’ll look at high outliers in `Sales` and `Profit`.\n",
    "\n",
    "For simplicity, we’ll **cap extreme sales values** at the 99th percentile.\n"
   ]
  },
  {
   "cell_type": "code",
   "execution_count": null,
   "id": "7e60b551",
   "metadata": {},
   "outputs": [],
   "source": [
    "# Descriptive stats\n",
    "df[['Sales', 'Profit']].describe()\n"
   ]
  },
  {
   "cell_type": "code",
   "execution_count": null,
   "id": "08d703d8",
   "metadata": {},
   "outputs": [],
   "source": [
    "# Cap 'Sales' outliers\n",
    "sales_cap = df['Sales'].quantile(0.99)\n",
    "df = df[df['Sales'] < sales_cap]\n"
   ]
  },
  {
   "cell_type": "markdown",
   "id": "7a603951",
   "metadata": {},
   "source": [
    "---\n",
    "## 💡 Step 7: Add Additional Useful Columns (Optional)\n",
    "\n",
    "These can help in EDA and plotting later.\n"
   ]
  },
  {
   "cell_type": "code",
   "execution_count": null,
   "id": "70f01d1e",
   "metadata": {},
   "outputs": [],
   "source": [
    "# Total Cost = Sales - Profit\n",
    "df['Cost'] = df['Sales'] - df['Profit']\n",
    "\n",
    "# Profit Margin %\n",
    "df['Profit Margin (%)'] = (df['Profit'] / df['Sales']) * 100\n"
   ]
  },
  {
   "cell_type": "markdown",
   "id": "65cd01e0",
   "metadata": {},
   "source": [
    "---\n",
    "## 💾 Step 8: Save the Cleaned Dataset\n",
    "\n",
    "Let’s save the cleaned version so it can be used for EDA and dashboards.\n"
   ]
  },
  {
   "cell_type": "code",
   "execution_count": null,
   "id": "59f344ca",
   "metadata": {},
   "outputs": [],
   "source": [
    "# Save to CSV\n",
    "df.to_csv('cleaned_sales_data.csv', index=False)\n"
   ]
  },
  {
   "cell_type": "markdown",
   "id": "b7d3f8d4",
   "metadata": {},
   "source": [
    "---\n",
    "# ✅ Data Cleaning Completed\n",
    "\n",
    "We’ve successfully cleaned the Superstore Sales dataset and made it ready for analysis.\n",
    "\n",
    "You can now move on to:\n",
    "- Exploratory Data Analysis (EDA)\n",
    "- Dashboarding (Power BI, Excel, etc.)\n"
   ]
  }
 ],
 "metadata": {
  "kernelspec": {
   "display_name": "tutorial (3.13.5)",
   "language": "python",
   "name": "python3"
  },
  "language_info": {
   "codemirror_mode": {
    "name": "ipython",
    "version": 3
   },
   "file_extension": ".py",
   "mimetype": "text/x-python",
   "name": "python",
   "nbconvert_exporter": "python",
   "pygments_lexer": "ipython3",
   "version": "3.13.5"
  }
 },
 "nbformat": 4,
 "nbformat_minor": 5
}
