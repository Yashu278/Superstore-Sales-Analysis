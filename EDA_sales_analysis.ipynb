{
 "cells": [
  {
   "cell_type": "markdown",
   "id": "5d84bbeb",
   "metadata": {},
   "source": [
    "# 📊 Superstore Sales Dataset — Exploratory Data Analysis (EDA)\n",
    "\n",
    "## 📌 Objective\n",
    "\n",
    "The goal of this notebook is to perform a structured **Exploratory Data Analysis (EDA)** on the cleaned Superstore dataset.\n",
    "\n",
    "We aim to uncover:\n",
    "- 📦 Product category insights  \n",
    "- 🌍 Regional and state-level performance  \n",
    "- 💰 Profitability trends  \n",
    "- 📈 Sales over time  \n",
    "- 🔁 Customer segments & shipping trends  \n",
    "\n",
    "---\n",
    "\n",
    "## 🧭 Step 1: Import Libraries and Load Cleaned Data\n"
   ]
  },
  {
   "cell_type": "code",
   "execution_count": null,
   "id": "41ec29ce",
   "metadata": {},
   "outputs": [],
   "source": [
    "import pandas as pd\n",
    "import matplotlib.pyplot as plt\n",
    "import seaborn as sns\n",
    "\n",
    "# Setup for clean visuals\n",
    "sns.set(style=\"whitegrid\")\n",
    "plt.rcParams[\"figure.figsize\"] = (10, 6)\n",
    "\n",
    "# Load the cleaned data\n",
    "df = pd.read_csv(\"/mnt/shared/Data_Analytics_Projects/Superstore_Sales_Data/Superstore.csv\", encoding='ISO-8859-1')\n",
    "\n",
    "# Preview data\n",
    "df.head()\n"
   ]
  },
  {
   "cell_type": "markdown",
   "id": "9812b509",
   "metadata": {},
   "source": [
    "## 🧐 Step 2: Basic Data Understanding\n",
    "\n",
    "We look at general trends like:\n",
    "- Most common categories/sub-categories\n",
    "- Sales & profit distributions\n"
   ]
  },
  {
   "cell_type": "code",
   "execution_count": null,
   "id": "5583d8c7",
   "metadata": {},
   "outputs": [],
   "source": [
    "# Top 5 most common sub-categories\n",
    "df['Sub-Category'].value_counts().head()\n"
   ]
  },
  {
   "cell_type": "code",
   "execution_count": null,
   "id": "ed489da3",
   "metadata": {},
   "outputs": [],
   "source": [
    "# Distribution of Sales and Profit\n",
    "sns.histplot(df['Sales'], bins=50, kde=True)\n",
    "plt.title(\"Sales Distribution\")\n",
    "plt.xlabel(\"Sales\")\n",
    "plt.ylabel(\"Frequency\")\n",
    "plt.show()\n",
    "\n",
    "sns.histplot(df['Profit'], bins=50, kde=True, color='green')\n",
    "plt.title(\"Profit Distribution\")\n",
    "plt.xlabel(\"Profit\")\n",
    "plt.ylabel(\"Frequency\")\n",
    "plt.show()\n"
   ]
  },
  {
   "cell_type": "markdown",
   "id": "9afa15f8",
   "metadata": {},
   "source": [
    "## 🗃️ Step 3: Category-wise Performance\n",
    "\n",
    "We analyze which product categories & sub-categories drive revenue and profit.\n"
   ]
  },
  {
   "cell_type": "code",
   "execution_count": null,
   "id": "2e2ffc89",
   "metadata": {},
   "outputs": [],
   "source": [
    "# Category-wise Sales and Profit\n",
    "category_summary = df.groupby('Category')[['Sales', 'Profit']].sum().sort_values(by='Sales', ascending=False)\n",
    "category_summary.plot(kind='bar', stacked=False, title=\"Sales and Profit by Category\", colormap='viridis')\n",
    "plt.ylabel(\"Amount\")\n",
    "plt.xticks(rotation=0)\n",
    "plt.show()\n",
    "\n",
    "# Sub-Category Analysis\n",
    "subcat = df.groupby('Sub-Category')[['Sales', 'Profit']].sum().sort_values(by='Sales', ascending=True)\n",
    "subcat.plot(kind='barh', stacked=False, title=\"Sales and Profit by Sub-Category\", colormap='plasma')\n",
    "plt.xlabel(\"Amount\")\n",
    "plt.show()\n"
   ]
  },
  {
   "cell_type": "markdown",
   "id": "78aadb7d",
   "metadata": {},
   "source": [
    "## 🧭 Step 4: Regional and State-wise Insights\n",
    "\n",
    "We analyze how different regions and states are performing in terms of Sales and Profit.\n"
   ]
  },
  {
   "cell_type": "code",
   "execution_count": null,
   "id": "85ac0f86",
   "metadata": {},
   "outputs": [],
   "source": [
    "# Region-Level Summary\n",
    "region_summary = df.groupby('Region')[['Sales', 'Profit']].sum().sort_values(by='Sales', ascending=False)\n",
    "region_summary.plot(kind='bar', title=\"Sales and Profit by Region\", colormap='coolwarm')\n",
    "plt.ylabel(\"Amount\")\n",
    "plt.xticks(rotation=0)\n",
    "plt.show()\n",
    "\n",
    "# Top 10 states by Profit\n",
    "top_states = df.groupby('State')[['Sales', 'Profit']].sum().sort_values(by='Profit', ascending=False).head(10)\n",
    "top_states.plot(kind='bar', title=\"Top 10 States by Profit\", colormap='spring')\n",
    "plt.ylabel(\"Amount\")\n",
    "plt.show()\n"
   ]
  },
  {
   "cell_type": "markdown",
   "id": "9a5627da",
   "metadata": {},
   "source": [
    "## 📅 Step 5: Time Series Analysis — Sales Over Time\n",
    "\n",
    "We evaluate how sales and profit trends vary by year and month.\n"
   ]
  },
  {
   "cell_type": "code",
   "execution_count": null,
   "id": "7b3e5045",
   "metadata": {},
   "outputs": [],
   "source": [
    "# Ensure Order Date is in datetime format\n",
    "df['Order Date'] = pd.to_datetime(df['Order Date'])\n",
    "\n",
    "# Create new columns for year and month\n",
    "df['Order Year'] = df['Order Date'].dt.year\n",
    "df['Order Month'] = df['Order Date'].dt.month_name()\n",
    "\n",
    "# Year-wise Sales\n",
    "df.groupby('Order Year')['Sales'].sum().plot(marker='o')\n",
    "plt.title(\"Total Sales per Year\")\n",
    "plt.ylabel(\"Sales\")\n",
    "plt.xlabel(\"Year\")\n",
    "plt.grid(True)\n",
    "plt.show()\n",
    "\n",
    "# Month-wise Sales trend (aggregated over all years)\n",
    "df.groupby('Order Month')['Sales'].sum().reindex([\n",
    "    'January', 'February', 'March', 'April', 'May', 'June',\n",
    "    'July', 'August', 'September', 'October', 'November', 'December'\n",
    "]).plot(kind='bar')\n",
    "plt.title(\"Sales by Month (Aggregated)\")\n",
    "plt.xlabel(\"Month\")\n",
    "plt.ylabel(\"Sales\")\n",
    "plt.show()\n"
   ]
  },
  {
   "cell_type": "markdown",
   "id": "6ba14978",
   "metadata": {},
   "source": [
    "## 🧍‍♂️ Step 6: Segment & Shipping Mode Analysis\n",
    "\n",
    "We look at which **Customer Segments** and **Shipping Methods** bring the most revenue and profit.\n"
   ]
  },
  {
   "cell_type": "code",
   "execution_count": null,
   "id": "06140fb9",
   "metadata": {},
   "outputs": [],
   "source": [
    "# Segment Performance\n",
    "segment = df.groupby('Segment')[['Sales', 'Profit']].sum()\n",
    "segment.plot(kind='bar', title=\"Sales and Profit by Customer Segment\", colormap='Set2')\n",
    "plt.xticks(rotation=0)\n",
    "plt.ylabel(\"Amount\")\n",
    "plt.show()\n",
    "\n",
    "# Ship Mode\n",
    "ship_mode = df.groupby('Ship Mode')[['Sales', 'Profit']].sum()\n",
    "ship_mode.plot(kind='bar', title=\"Sales and Profit by Ship Mode\", colormap='Accent')\n",
    "plt.xticks(rotation=0)\n",
    "plt.ylabel(\"Amount\")\n",
    "plt.show()\n"
   ]
  },
  {
   "cell_type": "markdown",
   "id": "c5c7f848",
   "metadata": {},
   "source": [
    "## 🔗 Step 7: Relationship Between Sales, Profit, and Discount\n",
    "\n",
    "We explore if high discounts lead to negative profits using scatter plots and correlation.\n"
   ]
  },
  {
   "cell_type": "code",
   "execution_count": null,
   "id": "5ecbdc80",
   "metadata": {},
   "outputs": [],
   "source": [
    "# Correlation heatmap\n",
    "sns.heatmap(df[['Sales', 'Profit', 'Discount']].corr(), annot=True, cmap='coolwarm')\n",
    "plt.title(\"Correlation between Sales, Profit, and Discount\")\n",
    "plt.show()\n",
    "\n",
    "# Discount vs Profit\n",
    "sns.scatterplot(data=df, x='Discount', y='Profit', hue='Category')\n",
    "plt.title(\"Discount vs Profit by Category\")\n",
    "plt.show()\n"
   ]
  },
  {
   "cell_type": "markdown",
   "id": "288f76d4",
   "metadata": {},
   "source": [
    "---\n",
    "# ✅ EDA Completed\n",
    "\n",
    "We’ve successfully explored the cleaned Superstore dataset from various angles:\n",
    "\n",
    "- 🗂️ Categories and sub-categories\n",
    "- 🏙️ Region and state performance\n",
    "- 📆 Time trends (Year/Month)\n",
    "- 👥 Segments and shipping methods\n",
    "- 🧮 Impact of discount on profit\n",
    "\n",
    "Now this data is ready for:\n",
    "- 📈 Dashboarding in Power BI / Excel\n",
    "- 📦 Business insights presentation\n",
    "- 📄 Sharing this notebook as part of your project/portfolio\n",
    "\n",
    "---\n"
   ]
  }
 ],
 "metadata": {
  "kernelspec": {
   "display_name": "tutorial (3.13.5)",
   "language": "python",
   "name": "python3"
  },
  "language_info": {
   "codemirror_mode": {
    "name": "ipython",
    "version": 3
   },
   "file_extension": ".py",
   "mimetype": "text/x-python",
   "name": "python",
   "nbconvert_exporter": "python",
   "pygments_lexer": "ipython3",
   "version": "3.13.5"
  }
 },
 "nbformat": 4,
 "nbformat_minor": 5
}
